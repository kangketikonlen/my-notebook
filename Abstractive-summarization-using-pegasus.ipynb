{
 "cells": [
  {
   "cell_type": "code",
   "execution_count": 1,
   "metadata": {
    "colab": {
     "base_uri": "https://localhost:8080/"
    },
    "executionInfo": {
     "elapsed": 3879,
     "status": "ok",
     "timestamp": 1639402508731,
     "user": {
      "displayName": "TukangKetik Developer",
      "photoUrl": "https://lh3.googleusercontent.com/a-/AOh14Ggiw8eBZNTjvuDcYaomL9Pxd4eAPNGPDCK5pI1HQTQ=s64",
      "userId": "02205519716317230320"
     },
     "user_tz": -420
    },
    "id": "hLWHPuUS41mR",
    "outputId": "19179ada-060a-43c9-c0da-e30252346930"
   },
   "outputs": [
    {
     "name": "stdout",
     "output_type": "stream",
     "text": [
      "Requirement already satisfied: transformers in /opt/anaconda3/lib/python3.8/site-packages (4.13.0)\n",
      "Collecting SentencePiece\n",
      "  Downloading sentencepiece-0.1.96-cp38-cp38-macosx_10_6_x86_64.whl (1.1 MB)\n",
      "\u001b[K     |████████████████████████████████| 1.1 MB 323 kB/s eta 0:00:01\n",
      "\u001b[?25hRequirement already satisfied: pyyaml>=5.1 in /opt/anaconda3/lib/python3.8/site-packages (from transformers) (6.0)\n",
      "Requirement already satisfied: packaging>=20.0 in /opt/anaconda3/lib/python3.8/site-packages (from transformers) (21.3)\n",
      "Requirement already satisfied: huggingface-hub<1.0,>=0.1.0 in /opt/anaconda3/lib/python3.8/site-packages (from transformers) (0.2.1)\n",
      "Requirement already satisfied: filelock in /opt/anaconda3/lib/python3.8/site-packages (from transformers) (3.4.0)\n",
      "Requirement already satisfied: regex!=2019.12.17 in /opt/anaconda3/lib/python3.8/site-packages (from transformers) (2021.8.3)\n",
      "Requirement already satisfied: numpy>=1.17 in /opt/anaconda3/lib/python3.8/site-packages (from transformers) (1.20.3)\n",
      "Requirement already satisfied: sacremoses in /opt/anaconda3/lib/python3.8/site-packages (from transformers) (0.0.46)\n",
      "Requirement already satisfied: requests in /opt/anaconda3/lib/python3.8/site-packages (from transformers) (2.26.0)\n",
      "Requirement already satisfied: tqdm>=4.27 in /opt/anaconda3/lib/python3.8/site-packages (from transformers) (4.62.3)\n",
      "Requirement already satisfied: tokenizers<0.11,>=0.10.1 in /opt/anaconda3/lib/python3.8/site-packages (from transformers) (0.10.3)\n",
      "Requirement already satisfied: typing-extensions>=3.7.4.3 in /opt/anaconda3/lib/python3.8/site-packages (from huggingface-hub<1.0,>=0.1.0->transformers) (3.10.0.2)\n",
      "Requirement already satisfied: pyparsing!=3.0.5,>=2.0.2 in /opt/anaconda3/lib/python3.8/site-packages (from packaging>=20.0->transformers) (3.0.4)\n",
      "Requirement already satisfied: idna<4,>=2.5 in /opt/anaconda3/lib/python3.8/site-packages (from requests->transformers) (3.3)\n",
      "Requirement already satisfied: urllib3<1.27,>=1.21.1 in /opt/anaconda3/lib/python3.8/site-packages (from requests->transformers) (1.26.7)\n",
      "Requirement already satisfied: charset-normalizer~=2.0.0 in /opt/anaconda3/lib/python3.8/site-packages (from requests->transformers) (2.0.4)\n",
      "Requirement already satisfied: certifi>=2017.4.17 in /opt/anaconda3/lib/python3.8/site-packages (from requests->transformers) (2021.10.8)\n",
      "Requirement already satisfied: six in /opt/anaconda3/lib/python3.8/site-packages (from sacremoses->transformers) (1.16.0)\n",
      "Requirement already satisfied: joblib in /opt/anaconda3/lib/python3.8/site-packages (from sacremoses->transformers) (1.1.0)\n",
      "Requirement already satisfied: click in /opt/anaconda3/lib/python3.8/site-packages (from sacremoses->transformers) (8.0.3)\n",
      "Installing collected packages: SentencePiece\n",
      "Successfully installed SentencePiece-0.1.96\n"
     ]
    }
   ],
   "source": [
    "!pip3 install transformers SentencePiece"
   ]
  },
  {
   "cell_type": "code",
   "execution_count": 2,
   "metadata": {
    "executionInfo": {
     "elapsed": 3433,
     "status": "ok",
     "timestamp": 1639402512161,
     "user": {
      "displayName": "TukangKetik Developer",
      "photoUrl": "https://lh3.googleusercontent.com/a-/AOh14Ggiw8eBZNTjvuDcYaomL9Pxd4eAPNGPDCK5pI1HQTQ=s64",
      "userId": "02205519716317230320"
     },
     "user_tz": -420
    },
    "id": "yvwCGPZQ4bLX"
   },
   "outputs": [],
   "source": [
    "from transformers import PegasusForConditionalGeneration, PegasusTokenizer"
   ]
  },
  {
   "cell_type": "code",
   "execution_count": 3,
   "metadata": {
    "id": "BaSBeDPc4hiH"
   },
   "outputs": [
    {
     "data": {
      "application/vnd.jupyter.widget-view+json": {
       "model_id": "b86333df80834fe983a19fc8aff437ce",
       "version_major": 2,
       "version_minor": 0
      },
      "text/plain": [
       "Downloading:   0%|          | 0.00/1.82M [00:00<?, ?B/s]"
      ]
     },
     "metadata": {},
     "output_type": "display_data"
    },
    {
     "data": {
      "application/vnd.jupyter.widget-view+json": {
       "model_id": "a29f4b1f451841a9b1c6a2eb1b292586",
       "version_major": 2,
       "version_minor": 0
      },
      "text/plain": [
       "Downloading:   0%|          | 0.00/65.0 [00:00<?, ?B/s]"
      ]
     },
     "metadata": {},
     "output_type": "display_data"
    },
    {
     "data": {
      "application/vnd.jupyter.widget-view+json": {
       "model_id": "d316ee1671b8471fbe7566b9b47b0e4e",
       "version_major": 2,
       "version_minor": 0
      },
      "text/plain": [
       "Downloading:   0%|          | 0.00/88.0 [00:00<?, ?B/s]"
      ]
     },
     "metadata": {},
     "output_type": "display_data"
    },
    {
     "data": {
      "application/vnd.jupyter.widget-view+json": {
       "model_id": "d4936767943047e6a3dc4fb85a9918b0",
       "version_major": 2,
       "version_minor": 0
      },
      "text/plain": [
       "Downloading:   0%|          | 0.00/3.02k [00:00<?, ?B/s]"
      ]
     },
     "metadata": {},
     "output_type": "display_data"
    }
   ],
   "source": [
    "tokenizer = PegasusTokenizer.from_pretrained(\"google/pegasus-large\")"
   ]
  },
  {
   "cell_type": "code",
   "execution_count": 4,
   "metadata": {
    "colab": {
     "base_uri": "https://localhost:8080/",
     "height": 49,
     "referenced_widgets": [
      "2ca9d3a2658645cf958bc3315d189bd6",
      "5079e51d16ee42dca2611ce0cd0fb4e9",
      "4cadd7135a5d4f71bd0e5fc7c6ac5846",
      "4975f07110e1476595ab66d1610d77ee",
      "1102b8478a1a4e0dab53ddfb512dad40",
      "8fcd11ad20fe4f0db1ecb09abf53933b",
      "d9c8f4c4db214a43b40b36d23819ae9e",
      "e6081e1b2cb04e2499a2901c2d00e04d",
      "8059a87029f941e5b6475b019a037a21",
      "16532e853647475daa7c97395055cf79",
      "1e752552a8ab4d629a5a432d7e60a609"
     ]
    },
    "executionInfo": {
     "elapsed": 113362,
     "status": "ok",
     "timestamp": 1639402631718,
     "user": {
      "displayName": "TukangKetik Developer",
      "photoUrl": "https://lh3.googleusercontent.com/a-/AOh14Ggiw8eBZNTjvuDcYaomL9Pxd4eAPNGPDCK5pI1HQTQ=s64",
      "userId": "02205519716317230320"
     },
     "user_tz": -420
    },
    "id": "QO7lv-zz4jDS",
    "outputId": "66a22563-ffad-44d8-a4fa-087126b8620a"
   },
   "outputs": [
    {
     "data": {
      "application/vnd.jupyter.widget-view+json": {
       "model_id": "698be242dee64c549451bd1c1143066d",
       "version_major": 2,
       "version_minor": 0
      },
      "text/plain": [
       "Downloading:   0%|          | 0.00/2.12G [00:00<?, ?B/s]"
      ]
     },
     "metadata": {},
     "output_type": "display_data"
    }
   ],
   "source": [
    "model = PegasusForConditionalGeneration.from_pretrained(\"google/pegasus-large\")"
   ]
  },
  {
   "cell_type": "code",
   "execution_count": 5,
   "metadata": {
    "executionInfo": {
     "elapsed": 4,
     "status": "ok",
     "timestamp": 1639402631719,
     "user": {
      "displayName": "TukangKetik Developer",
      "photoUrl": "https://lh3.googleusercontent.com/a-/AOh14Ggiw8eBZNTjvuDcYaomL9Pxd4eAPNGPDCK5pI1HQTQ=s64",
      "userId": "02205519716317230320"
     },
     "user_tz": -420
    },
    "id": "cZ_JwY7-4k8X"
   },
   "outputs": [],
   "source": [
    "text = \"\"\"\n",
    "Oleh: Totoh Wildan Tohari (@majada789)\n",
    "Konon, Persib memiliki mentalitas ‘lemah’ di musim ini. Dikritik tak punya mentalitas pemenang, Persib ternyata masih bisa bersaing ketat di papan atas bersaing dengan Bhayangkara FC dan Arema FC. Mentalitas untuk menang di semua laga, baik kecil, menengah dan besar menjadi kata kunci Persib jika ingin menjadi juara pada Liga 1 yang memakai sistem kompetisi penuh.\n",
    "Mentalitas Persib Dipertanyakan\n",
    "Maung Bandung mengalami masa tak konsisten sejak juara di tahun 2014 lalu. Ada lebih dari 6 (lima) pelatih Persib dari rentang 2016 hingga 2021 ini. Mulai dari Dejan Antonic (2016), Djadjang Nurdjaman (2016 dan 2017), Emral Abus (2017), Mario Gomez (2018) Miljan Radovic (2019) dan kini Robert Rene Alberts (2019-2021).\n",
    "Pergantian pelatih tadi gagal membawa Persib menuju gelar juara. Prestasi terbaik di Liga adalah pada masa Mario Gomez yang membawa Persib peringkat keempat Liga 1 2018. Prestasi lainnya hanya bisa menjadi runner-up Piala Menpora 2021 pada masa pelatih Robert Rene Alberts.\n",
    "Masuk Liga 1 2021/2022, Persib datang dengan skuad ‘mewah’. Ada 8 pemain berlabel ‘asing (4 pemain naturalisasi dan 4 pemain asing murni). Pemain lokal Persib pun tak kalah mentereng. Pemain seperti Febri Hariyadi, Teja Paku Alam, Dedi Kusnandar, Acham Jufriyanto, Supardi hingga Frets Butuan, berlabel pemain kelas nasional. Ditambah  lagi pemain muda Persib seperti Beckham Putra, Aqil Saviq hingga Bayu Fiqri, menjadi pelapis sepadan bagi pemain senior Persib.\n",
    "Paruh musim Liga 1, Persib tampil menawan dalam 2 seri awal. Persib tak terkalahkan dalam 11 laga awal. Persib menjadi saingan utama Bhayangkara FC di papan atas.\n",
    "Namun, Persib mulai limbung di seri ketiga. Bermain 6 kali, Persib hanya menang 3 kali dan 3 kali kalah. Kalah dari 3 rival tradisional, mulai dari Persija, Arema FC dan Persebaya membuat Bobotoh murka. Stigma tim dengan mentalitas ‘lemah’ kian melekat dengan Persib.\n",
    "Mentalitas Juara Sejati\n",
    "Sepanjang sejarah hingga saat ini, Persib belum pernah menjadi juara pada sistem kompetisi penuh. Persib baru bisa menjadi juara pada sistem setengah kompetisi (1995 dan 2014). Pada sistem kompetisi penuh, konsistensi lebih penting dan menganggap semua laga adalah final.\n",
    "Jika berkaca pada juara di berbagai kompetisi penuh, utamanya di Eropa, seringkali juara lahir dari klub yang konsisten menang melawan klub papan tengah dan bawah. Manchester United era Sir Alex Ferguson yang sukses menjadi juara 13 kali Liga Primer Inggris, sangat dominan saat melawan klub papan bawah dan tengah. Begitu pula Barcelona era Messi dan Manchester City era Guardiola.\n",
    "Musim lalu, Manchester City gagal menang atas Manchester United di liga. Namun, di akhir musim, Manchester City sukses menjadi juara. Bali United pun sukses menjadi juara di tahun 2019 lalu, karena sukses konsisten menang melawan klub papan bawah dan menengah, tak hanya melawan klub besar.\n",
    "Kunci menjadi juara adalah konsisten menang melawan klub papan tengah, bawah dan atas. Kompetisi penuh tidak dimenangkan pada laga 1 atau 2 laga besar, namun pada laga-laga yang seringkali tak dianggap serius.\n",
    "Persib sejak era kompetisi penuh, memiliki masalah besar dengan klub kecil dan menengah. Kegagalan Persib menjadi juara di Liga Indonesia di tahun 2008 dan 2009 lalu, terjadi karena kalah konsisten dengan Arema  dan Persipura. Persib kerap gagal menang saat melawan klub seperti Persela, Barito Putera, Persiwa hingga Madura.\n",
    "Contoh nyata dapat dilihat pada Liga 1 2018. Persib era Mario Gomez bisa menang pada laga klasik melawan Persebaya (4-3) dan Persija (3-2), Arema (2-0). Namun, Persib tersandung saat melawan klub seperti Badak Lampung, Barito Putera, Mitra Kukar hingga Madura United, yang notabene harusnya menang, Persib malah imbang bahkan kalah. Pada akhirnya, Persija (gagal menang melawan Persib)  yang lebih konsisten, bisa menjadi juara.\n",
    "Paruh pertama Liga 1 2021/2022, Persib bisa mematahkan kutukan sulit menang saat melawan Madura United (sejak era Liga 1). Persib pun bisa menang atas Barito Putera setelah terakhir kali menang di liga tahun 2014 lalu. Normalnya, untuk menjadi juara, Persib harus menang melawan klub papan tengah tadi.\n",
    "Akhir kata, Persib masih punya 17 laga sisa di Liga 1 musim ini. Mentalitas juara Persib tidak ditentukan pada 1 atau 2 laga yang disebut ‘bigmatch’, tapi pada konsistensi meraih kemenangan. Akan sempurna, jika Persib bisa menang di laga besar, utamanya melawan Persija atau pun Arema.\n",
    "Namun, apa artinya menang atas Persija atau Arema seperti di tahun 2018, jika pada akhirnya gagal juara dan justru Persija yang malah menjadi juara? Bukankan Bobotoh ingin melihat Persib menjadi juara sejati, bukan juara ‘semu’.\n",
    "Ditulis oleh Totoh Wildan Tohari, Bobotoh dengan akun Twitter @majada789\n",
    "\"\"\""
   ]
  },
  {
   "cell_type": "code",
   "execution_count": 6,
   "metadata": {
    "executionInfo": {
     "elapsed": 3,
     "status": "ok",
     "timestamp": 1639402631719,
     "user": {
      "displayName": "TukangKetik Developer",
      "photoUrl": "https://lh3.googleusercontent.com/a-/AOh14Ggiw8eBZNTjvuDcYaomL9Pxd4eAPNGPDCK5pI1HQTQ=s64",
      "userId": "02205519716317230320"
     },
     "user_tz": -420
    },
    "id": "YNL40MMW4myV"
   },
   "outputs": [],
   "source": [
    "tokens = tokenizer(text, truncation=True, padding=\"longest\", return_tensors=\"pt\")\n",
    "# tokens"
   ]
  },
  {
   "cell_type": "code",
   "execution_count": 7,
   "metadata": {
    "executionInfo": {
     "elapsed": 76987,
     "status": "ok",
     "timestamp": 1639402708703,
     "user": {
      "displayName": "TukangKetik Developer",
      "photoUrl": "https://lh3.googleusercontent.com/a-/AOh14Ggiw8eBZNTjvuDcYaomL9Pxd4eAPNGPDCK5pI1HQTQ=s64",
      "userId": "02205519716317230320"
     },
     "user_tz": -420
    },
    "id": "yS45-bc04qp-"
   },
   "outputs": [],
   "source": [
    "summary = model.generate(**tokens)\n",
    "# summary[0]"
   ]
  },
  {
   "cell_type": "code",
   "execution_count": 8,
   "metadata": {
    "colab": {
     "base_uri": "https://localhost:8080/",
     "height": 53
    },
    "executionInfo": {
     "elapsed": 26,
     "status": "ok",
     "timestamp": 1639402708706,
     "user": {
      "displayName": "TukangKetik Developer",
      "photoUrl": "https://lh3.googleusercontent.com/a-/AOh14Ggiw8eBZNTjvuDcYaomL9Pxd4eAPNGPDCK5pI1HQTQ=s64",
      "userId": "02205519716317230320"
     },
     "user_tz": -420
    },
    "id": "iE93BvZe4vTZ",
    "outputId": "d62255f9-ba46-4ccf-810a-66f9a2c52f10"
   },
   "outputs": [
    {
     "data": {
      "text/plain": [
       "'Mentalitas untuk menang di semua laga, baik kecil, menengah dan besar menjadi kata kunci Persib jika ingin menjadi juara pada Liga 1 yang memakai sistem kompetisi penuh.'"
      ]
     },
     "execution_count": 8,
     "metadata": {},
     "output_type": "execute_result"
    }
   ],
   "source": [
    "tokenizer.decode(summary[0])"
   ]
  }
 ],
 "metadata": {
  "colab": {
   "authorship_tag": "ABX9TyN9R30gTnrUxJKoS7UlVe6D",
   "name": "Abstractive-summarization-using-pegasus.ipynb",
   "provenance": []
  },
  "kernelspec": {
   "display_name": "Python 3 (ipykernel)",
   "language": "python",
   "name": "python3"
  },
  "language_info": {
   "codemirror_mode": {
    "name": "ipython",
    "version": 3
   },
   "file_extension": ".py",
   "mimetype": "text/x-python",
   "name": "python",
   "nbconvert_exporter": "python",
   "pygments_lexer": "ipython3",
   "version": "3.8.8"
  },
  "widgets": {
   "application/vnd.jupyter.widget-state+json": {
    "1102b8478a1a4e0dab53ddfb512dad40": {
     "model_module": "@jupyter-widgets/controls",
     "model_module_version": "1.5.0",
     "model_name": "HTMLModel",
     "state": {
      "_dom_classes": [],
      "_model_module": "@jupyter-widgets/controls",
      "_model_module_version": "1.5.0",
      "_model_name": "HTMLModel",
      "_view_count": null,
      "_view_module": "@jupyter-widgets/controls",
      "_view_module_version": "1.5.0",
      "_view_name": "HTMLView",
      "description": "",
      "description_tooltip": null,
      "layout": "IPY_MODEL_1e752552a8ab4d629a5a432d7e60a609",
      "placeholder": "​",
      "style": "IPY_MODEL_16532e853647475daa7c97395055cf79",
      "value": " 2.12G/2.12G [01:35&lt;00:00, 24.6MB/s]"
     }
    },
    "16532e853647475daa7c97395055cf79": {
     "model_module": "@jupyter-widgets/controls",
     "model_module_version": "1.5.0",
     "model_name": "DescriptionStyleModel",
     "state": {
      "_model_module": "@jupyter-widgets/controls",
      "_model_module_version": "1.5.0",
      "_model_name": "DescriptionStyleModel",
      "_view_count": null,
      "_view_module": "@jupyter-widgets/base",
      "_view_module_version": "1.2.0",
      "_view_name": "StyleView",
      "description_width": ""
     }
    },
    "1e752552a8ab4d629a5a432d7e60a609": {
     "model_module": "@jupyter-widgets/base",
     "model_module_version": "1.2.0",
     "model_name": "LayoutModel",
     "state": {
      "_model_module": "@jupyter-widgets/base",
      "_model_module_version": "1.2.0",
      "_model_name": "LayoutModel",
      "_view_count": null,
      "_view_module": "@jupyter-widgets/base",
      "_view_module_version": "1.2.0",
      "_view_name": "LayoutView",
      "align_content": null,
      "align_items": null,
      "align_self": null,
      "border": null,
      "bottom": null,
      "display": null,
      "flex": null,
      "flex_flow": null,
      "grid_area": null,
      "grid_auto_columns": null,
      "grid_auto_flow": null,
      "grid_auto_rows": null,
      "grid_column": null,
      "grid_gap": null,
      "grid_row": null,
      "grid_template_areas": null,
      "grid_template_columns": null,
      "grid_template_rows": null,
      "height": null,
      "justify_content": null,
      "justify_items": null,
      "left": null,
      "margin": null,
      "max_height": null,
      "max_width": null,
      "min_height": null,
      "min_width": null,
      "object_fit": null,
      "object_position": null,
      "order": null,
      "overflow": null,
      "overflow_x": null,
      "overflow_y": null,
      "padding": null,
      "right": null,
      "top": null,
      "visibility": null,
      "width": null
     }
    },
    "2ca9d3a2658645cf958bc3315d189bd6": {
     "model_module": "@jupyter-widgets/controls",
     "model_module_version": "1.5.0",
     "model_name": "HBoxModel",
     "state": {
      "_dom_classes": [],
      "_model_module": "@jupyter-widgets/controls",
      "_model_module_version": "1.5.0",
      "_model_name": "HBoxModel",
      "_view_count": null,
      "_view_module": "@jupyter-widgets/controls",
      "_view_module_version": "1.5.0",
      "_view_name": "HBoxView",
      "box_style": "",
      "children": [
       "IPY_MODEL_4cadd7135a5d4f71bd0e5fc7c6ac5846",
       "IPY_MODEL_4975f07110e1476595ab66d1610d77ee",
       "IPY_MODEL_1102b8478a1a4e0dab53ddfb512dad40"
      ],
      "layout": "IPY_MODEL_5079e51d16ee42dca2611ce0cd0fb4e9"
     }
    },
    "4975f07110e1476595ab66d1610d77ee": {
     "model_module": "@jupyter-widgets/controls",
     "model_module_version": "1.5.0",
     "model_name": "FloatProgressModel",
     "state": {
      "_dom_classes": [],
      "_model_module": "@jupyter-widgets/controls",
      "_model_module_version": "1.5.0",
      "_model_name": "FloatProgressModel",
      "_view_count": null,
      "_view_module": "@jupyter-widgets/controls",
      "_view_module_version": "1.5.0",
      "_view_name": "ProgressView",
      "bar_style": "success",
      "description": "",
      "description_tooltip": null,
      "layout": "IPY_MODEL_8059a87029f941e5b6475b019a037a21",
      "max": 2275327883,
      "min": 0,
      "orientation": "horizontal",
      "style": "IPY_MODEL_e6081e1b2cb04e2499a2901c2d00e04d",
      "value": 2275327883
     }
    },
    "4cadd7135a5d4f71bd0e5fc7c6ac5846": {
     "model_module": "@jupyter-widgets/controls",
     "model_module_version": "1.5.0",
     "model_name": "HTMLModel",
     "state": {
      "_dom_classes": [],
      "_model_module": "@jupyter-widgets/controls",
      "_model_module_version": "1.5.0",
      "_model_name": "HTMLModel",
      "_view_count": null,
      "_view_module": "@jupyter-widgets/controls",
      "_view_module_version": "1.5.0",
      "_view_name": "HTMLView",
      "description": "",
      "description_tooltip": null,
      "layout": "IPY_MODEL_d9c8f4c4db214a43b40b36d23819ae9e",
      "placeholder": "​",
      "style": "IPY_MODEL_8fcd11ad20fe4f0db1ecb09abf53933b",
      "value": "Downloading: 100%"
     }
    },
    "5079e51d16ee42dca2611ce0cd0fb4e9": {
     "model_module": "@jupyter-widgets/base",
     "model_module_version": "1.2.0",
     "model_name": "LayoutModel",
     "state": {
      "_model_module": "@jupyter-widgets/base",
      "_model_module_version": "1.2.0",
      "_model_name": "LayoutModel",
      "_view_count": null,
      "_view_module": "@jupyter-widgets/base",
      "_view_module_version": "1.2.0",
      "_view_name": "LayoutView",
      "align_content": null,
      "align_items": null,
      "align_self": null,
      "border": null,
      "bottom": null,
      "display": null,
      "flex": null,
      "flex_flow": null,
      "grid_area": null,
      "grid_auto_columns": null,
      "grid_auto_flow": null,
      "grid_auto_rows": null,
      "grid_column": null,
      "grid_gap": null,
      "grid_row": null,
      "grid_template_areas": null,
      "grid_template_columns": null,
      "grid_template_rows": null,
      "height": null,
      "justify_content": null,
      "justify_items": null,
      "left": null,
      "margin": null,
      "max_height": null,
      "max_width": null,
      "min_height": null,
      "min_width": null,
      "object_fit": null,
      "object_position": null,
      "order": null,
      "overflow": null,
      "overflow_x": null,
      "overflow_y": null,
      "padding": null,
      "right": null,
      "top": null,
      "visibility": null,
      "width": null
     }
    },
    "8059a87029f941e5b6475b019a037a21": {
     "model_module": "@jupyter-widgets/base",
     "model_module_version": "1.2.0",
     "model_name": "LayoutModel",
     "state": {
      "_model_module": "@jupyter-widgets/base",
      "_model_module_version": "1.2.0",
      "_model_name": "LayoutModel",
      "_view_count": null,
      "_view_module": "@jupyter-widgets/base",
      "_view_module_version": "1.2.0",
      "_view_name": "LayoutView",
      "align_content": null,
      "align_items": null,
      "align_self": null,
      "border": null,
      "bottom": null,
      "display": null,
      "flex": null,
      "flex_flow": null,
      "grid_area": null,
      "grid_auto_columns": null,
      "grid_auto_flow": null,
      "grid_auto_rows": null,
      "grid_column": null,
      "grid_gap": null,
      "grid_row": null,
      "grid_template_areas": null,
      "grid_template_columns": null,
      "grid_template_rows": null,
      "height": null,
      "justify_content": null,
      "justify_items": null,
      "left": null,
      "margin": null,
      "max_height": null,
      "max_width": null,
      "min_height": null,
      "min_width": null,
      "object_fit": null,
      "object_position": null,
      "order": null,
      "overflow": null,
      "overflow_x": null,
      "overflow_y": null,
      "padding": null,
      "right": null,
      "top": null,
      "visibility": null,
      "width": null
     }
    },
    "8fcd11ad20fe4f0db1ecb09abf53933b": {
     "model_module": "@jupyter-widgets/controls",
     "model_module_version": "1.5.0",
     "model_name": "DescriptionStyleModel",
     "state": {
      "_model_module": "@jupyter-widgets/controls",
      "_model_module_version": "1.5.0",
      "_model_name": "DescriptionStyleModel",
      "_view_count": null,
      "_view_module": "@jupyter-widgets/base",
      "_view_module_version": "1.2.0",
      "_view_name": "StyleView",
      "description_width": ""
     }
    },
    "d9c8f4c4db214a43b40b36d23819ae9e": {
     "model_module": "@jupyter-widgets/base",
     "model_module_version": "1.2.0",
     "model_name": "LayoutModel",
     "state": {
      "_model_module": "@jupyter-widgets/base",
      "_model_module_version": "1.2.0",
      "_model_name": "LayoutModel",
      "_view_count": null,
      "_view_module": "@jupyter-widgets/base",
      "_view_module_version": "1.2.0",
      "_view_name": "LayoutView",
      "align_content": null,
      "align_items": null,
      "align_self": null,
      "border": null,
      "bottom": null,
      "display": null,
      "flex": null,
      "flex_flow": null,
      "grid_area": null,
      "grid_auto_columns": null,
      "grid_auto_flow": null,
      "grid_auto_rows": null,
      "grid_column": null,
      "grid_gap": null,
      "grid_row": null,
      "grid_template_areas": null,
      "grid_template_columns": null,
      "grid_template_rows": null,
      "height": null,
      "justify_content": null,
      "justify_items": null,
      "left": null,
      "margin": null,
      "max_height": null,
      "max_width": null,
      "min_height": null,
      "min_width": null,
      "object_fit": null,
      "object_position": null,
      "order": null,
      "overflow": null,
      "overflow_x": null,
      "overflow_y": null,
      "padding": null,
      "right": null,
      "top": null,
      "visibility": null,
      "width": null
     }
    },
    "e6081e1b2cb04e2499a2901c2d00e04d": {
     "model_module": "@jupyter-widgets/controls",
     "model_module_version": "1.5.0",
     "model_name": "ProgressStyleModel",
     "state": {
      "_model_module": "@jupyter-widgets/controls",
      "_model_module_version": "1.5.0",
      "_model_name": "ProgressStyleModel",
      "_view_count": null,
      "_view_module": "@jupyter-widgets/base",
      "_view_module_version": "1.2.0",
      "_view_name": "StyleView",
      "bar_color": null,
      "description_width": ""
     }
    }
   }
  }
 },
 "nbformat": 4,
 "nbformat_minor": 1
}
