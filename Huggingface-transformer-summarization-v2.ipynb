{
 "cells": [
  {
   "cell_type": "markdown",
   "metadata": {},
   "source": [
    "# Membuat rangkuman otomatis menggunakan machine learning"
   ]
  },
  {
   "cell_type": "markdown",
   "metadata": {},
   "source": [
    "## Sumber dari berbagai situs dan video"
   ]
  },
  {
   "cell_type": "markdown",
   "metadata": {
    "id": "sGrDrCix0g7H"
   },
   "source": [
    "### Install & Import\n",
    "Note: Sebelumnya, silahkan install [pyTorch](https://pytorch.org/) terlebih dahulu sebelum memasang library di bawah ini."
   ]
  },
  {
   "cell_type": "code",
   "execution_count": 1,
   "metadata": {
    "colab": {
     "base_uri": "https://localhost:8080/"
    },
    "executionInfo": {
     "elapsed": 5598,
     "status": "ok",
     "timestamp": 1639384556838,
     "user": {
      "displayName": "TukangKetik Developer",
      "photoUrl": "https://lh3.googleusercontent.com/a-/AOh14Ggiw8eBZNTjvuDcYaomL9Pxd4eAPNGPDCK5pI1HQTQ=s64",
      "userId": "02205519716317230320"
     },
     "user_tz": -420
    },
    "id": "De9n-79V1fuW",
    "outputId": "a07ce20f-8460-475a-cd7b-4d4b6839f9a7"
   },
   "outputs": [
    {
     "name": "stdout",
     "output_type": "stream",
     "text": [
      "Requirement already satisfied: transformers in /opt/anaconda3/lib/python3.8/site-packages (4.13.0)\n",
      "Requirement already satisfied: huggingface-hub<1.0,>=0.1.0 in /opt/anaconda3/lib/python3.8/site-packages (from transformers) (0.2.1)\n",
      "Requirement already satisfied: regex!=2019.12.17 in /opt/anaconda3/lib/python3.8/site-packages (from transformers) (2021.8.3)\n",
      "Requirement already satisfied: pyyaml>=5.1 in /opt/anaconda3/lib/python3.8/site-packages (from transformers) (6.0)\n",
      "Requirement already satisfied: numpy>=1.17 in /opt/anaconda3/lib/python3.8/site-packages (from transformers) (1.20.3)\n",
      "Requirement already satisfied: tokenizers<0.11,>=0.10.1 in /opt/anaconda3/lib/python3.8/site-packages (from transformers) (0.10.3)\n",
      "Requirement already satisfied: packaging>=20.0 in /opt/anaconda3/lib/python3.8/site-packages (from transformers) (21.3)\n",
      "Requirement already satisfied: sacremoses in /opt/anaconda3/lib/python3.8/site-packages (from transformers) (0.0.46)\n",
      "Requirement already satisfied: tqdm>=4.27 in /opt/anaconda3/lib/python3.8/site-packages (from transformers) (4.62.3)\n",
      "Requirement already satisfied: requests in /opt/anaconda3/lib/python3.8/site-packages (from transformers) (2.26.0)\n",
      "Requirement already satisfied: filelock in /opt/anaconda3/lib/python3.8/site-packages (from transformers) (3.4.0)\n",
      "Requirement already satisfied: typing-extensions>=3.7.4.3 in /opt/anaconda3/lib/python3.8/site-packages (from huggingface-hub<1.0,>=0.1.0->transformers) (3.10.0.2)\n",
      "Requirement already satisfied: pyparsing!=3.0.5,>=2.0.2 in /opt/anaconda3/lib/python3.8/site-packages (from packaging>=20.0->transformers) (3.0.4)\n",
      "Requirement already satisfied: idna<4,>=2.5 in /opt/anaconda3/lib/python3.8/site-packages (from requests->transformers) (3.3)\n",
      "Requirement already satisfied: certifi>=2017.4.17 in /opt/anaconda3/lib/python3.8/site-packages (from requests->transformers) (2021.10.8)\n",
      "Requirement already satisfied: urllib3<1.27,>=1.21.1 in /opt/anaconda3/lib/python3.8/site-packages (from requests->transformers) (1.26.7)\n",
      "Requirement already satisfied: charset-normalizer~=2.0.0 in /opt/anaconda3/lib/python3.8/site-packages (from requests->transformers) (2.0.4)\n",
      "Requirement already satisfied: joblib in /opt/anaconda3/lib/python3.8/site-packages (from sacremoses->transformers) (1.1.0)\n",
      "Requirement already satisfied: six in /opt/anaconda3/lib/python3.8/site-packages (from sacremoses->transformers) (1.16.0)\n",
      "Requirement already satisfied: click in /opt/anaconda3/lib/python3.8/site-packages (from sacremoses->transformers) (8.0.3)\n"
     ]
    }
   ],
   "source": [
    "!pip install transformers"
   ]
  },
  {
   "cell_type": "code",
   "execution_count": 2,
   "metadata": {
    "executionInfo": {
     "elapsed": 2711,
     "status": "ok",
     "timestamp": 1639384559542,
     "user": {
      "displayName": "TukangKetik Developer",
      "photoUrl": "https://lh3.googleusercontent.com/a-/AOh14Ggiw8eBZNTjvuDcYaomL9Pxd4eAPNGPDCK5pI1HQTQ=s64",
      "userId": "02205519716317230320"
     },
     "user_tz": -420
    },
    "id": "__MKjrp-1jMy"
   },
   "outputs": [],
   "source": [
    "# Import class requests\n",
    "import requests\n",
    "# Import class pipeline dari library transformers\n",
    "from transformers import pipeline\n",
    "# Import class BeautifulSoup dari library bs4\n",
    "from bs4 import BeautifulSoup"
   ]
  },
  {
   "cell_type": "markdown",
   "metadata": {
    "id": "OtPs42Xj0rVh"
   },
   "source": [
    "### Load Pipline\n",
    "Note: Sebelum memulai, load summarization akan mengunduh model sshleifer/distilbart-cnn-12-6 sekitar 1 GB. Persiapkan bandwidth terlebih dahulu. Jangan khawatir, download hanya di lakukan sekali."
   ]
  },
  {
   "cell_type": "code",
   "execution_count": 3,
   "metadata": {
    "colab": {
     "base_uri": "https://localhost:8080/"
    },
    "executionInfo": {
     "elapsed": 10329,
     "status": "ok",
     "timestamp": 1639384569866,
     "user": {
      "displayName": "TukangKetik Developer",
      "photoUrl": "https://lh3.googleusercontent.com/a-/AOh14Ggiw8eBZNTjvuDcYaomL9Pxd4eAPNGPDCK5pI1HQTQ=s64",
      "userId": "02205519716317230320"
     },
     "user_tz": -420
    },
    "id": "-6YBuB_t1l2E",
    "outputId": "9d5ba395-13f1-49c3-bbdd-c796d7e2ffd7"
   },
   "outputs": [
    {
     "name": "stderr",
     "output_type": "stream",
     "text": [
      "No model was supplied, defaulted to sshleifer/distilbart-cnn-12-6 (https://huggingface.co/sshleifer/distilbart-cnn-12-6)\n"
     ]
    }
   ],
   "source": [
    "# Load pipeline dan mengunduh model sshleifer/distilbart-cnn-12-6\n",
    "summarizer = pipeline(\"summarization\")"
   ]
  },
  {
   "cell_type": "markdown",
   "metadata": {
    "id": "0GhtQasU0ux1"
   },
   "source": [
    "### Mengambil data artikel dari website"
   ]
  },
  {
   "cell_type": "code",
   "execution_count": 4,
   "metadata": {
    "executionInfo": {
     "elapsed": 27,
     "status": "ok",
     "timestamp": 1639384569866,
     "user": {
      "displayName": "TukangKetik Developer",
      "photoUrl": "https://lh3.googleusercontent.com/a-/AOh14Ggiw8eBZNTjvuDcYaomL9Pxd4eAPNGPDCK5pI1HQTQ=s64",
      "userId": "02205519716317230320"
     },
     "user_tz": -420
    },
    "id": "iEQijpRW1nfA"
   },
   "outputs": [],
   "source": [
    "URL = \"https://simamaung.com/dipermalukan-persebaya-3-0-mimpi-buruk-pertahanan-persib/\""
   ]
  },
  {
   "cell_type": "code",
   "execution_count": 5,
   "metadata": {
    "executionInfo": {
     "elapsed": 2232,
     "status": "ok",
     "timestamp": 1639384572073,
     "user": {
      "displayName": "TukangKetik Developer",
      "photoUrl": "https://lh3.googleusercontent.com/a-/AOh14Ggiw8eBZNTjvuDcYaomL9Pxd4eAPNGPDCK5pI1HQTQ=s64",
      "userId": "02205519716317230320"
     },
     "user_tz": -420
    },
    "id": "7T4QBcvs1r6S"
   },
   "outputs": [],
   "source": [
    "r = requests.get(URL)"
   ]
  },
  {
   "cell_type": "code",
   "execution_count": 6,
   "metadata": {
    "executionInfo": {
     "elapsed": 23,
     "status": "ok",
     "timestamp": 1639384572075,
     "user": {
      "displayName": "TukangKetik Developer",
      "photoUrl": "https://lh3.googleusercontent.com/a-/AOh14Ggiw8eBZNTjvuDcYaomL9Pxd4eAPNGPDCK5pI1HQTQ=s64",
      "userId": "02205519716317230320"
     },
     "user_tz": -420
    },
    "id": "YfNZm3sc1uJC"
   },
   "outputs": [],
   "source": [
    "soup = BeautifulSoup(r.text, 'html.parser')\n",
    "results = soup.find_all(['h1', 'p'])\n",
    "text = [result.text for result in results]\n",
    "ARTICLE = ' '.join(text)"
   ]
  },
  {
   "cell_type": "code",
   "execution_count": 7,
   "metadata": {
    "colab": {
     "base_uri": "https://localhost:8080/",
     "height": 140
    },
    "executionInfo": {
     "elapsed": 23,
     "status": "ok",
     "timestamp": 1639384572076,
     "user": {
      "displayName": "TukangKetik Developer",
      "photoUrl": "https://lh3.googleusercontent.com/a-/AOh14Ggiw8eBZNTjvuDcYaomL9Pxd4eAPNGPDCK5pI1HQTQ=s64",
      "userId": "02205519716317230320"
     },
     "user_tz": -420
    },
    "id": "w0ai17431wcc",
    "outputId": "80a1e924-6dc7-49a5-c1ed-6746fe44e2ec"
   },
   "outputs": [
    {
     "data": {
      "text/plain": [
       "'Dipermalukan Persebaya 3-0, Mimpi Buruk Pertahanan Persib \\nPertahanan Persib rapuh dihadapan Persebaya Surabaya dalam bentrok big match Liga 1 Rabu (8/12/2021) malam di Stadion Maguwoharjo Sleman. Maung Bandung tak berdaya di babak kedua, aksi Taisei Marukawa dan Bruno Soares mempermalukan pertahanan Persib lewat tiga gol yang bersarang. Persebaya memperlihatkan permainan efektif, meski di babak pertama didominasi Persib. Aji Santoso bisa membalikkan situasi permainan di babak kedua dengan pergantian kunci memasukkan Rizky Ridho. Intensitas serangan ditingkatkan rencananya berbuah manis lewat gelontoran gol yang memukau. Babak I\\nPersib memainkan kembali formasi 4-3-3, Dedi Kusnandar, Marc Klok, dan Beckham jadi pilihan utama sebagai motor permainan. Penguasaan bola diambil alih sejak menit pertama, lini tengah Persib begitu dominan dari pada Persebaya, dengan variasi umpan satu dua sentuhan sesekali umpan panjang. Frets Butuan melepas tendangan mengena tiang menit 4. Beckham Putra menunjukkan eksplosivitas serangan sebagai penghubung lini tengah ke lini depan. Menit 13, ia mengecoh tiga pemain di dalam kotak penalti, aksi itu tak diakhiri dengan penyelesaian yang sempurna. Memasuki 10 menit ketiga, Persebaya mulai kewalahan dengan determinasi serangan yang ditunjukkan lawannya. Pelanggaran-pelanggaran di depan kotak penalti intens dilakukan barisan pertahanan Persebaya terhadap Febri dan Frets yang malam itu cukup liar. Tendangan set piece Klok menit 34 tepat sasaran masih ditepis Ernando. Tiga menit kemudian Febri dapat peluang tembak dari kesalahan bek lawan di dalam kotak penalti, blok Ernando. Crossing Frets disundul Wander Luiz menit 41 lagi-lagi Ernando menyelamatkan. Trio asing Bajul Ijo, Jose Wilkson, Taisei Marukawa, dan Bruno Soares yang sejak awal diprediksi akan merepotkan, tak begitu kelihatan aksinya. Deadlock di lini tengah buat aliran bola kepada Marukawa dan Bruno menjadi minim. Tak ada ancaman berarti ke gawang M Natshir di babak pertama. Babak II\\nPersebaya mulai menghidupkan serangan di babak kedua, perlahan pergerakkan bola l mendekat ke kotak penalti Persib. Apa yang tak diinginkan terjadi, umpan direct lawan gagal disapu Zalnando, Marukawa dalam bayang-bayang Jupe melepas tendangan cerdik terarah membobol gawang M Natshir, 1-0 Persebaya memimpin. Robert langsung merespon gol dengan pergantian pemain, Geoffrey Castillion dimasukkan ganti Febri. Persib mulai panik, skema serangan yang di babak pertama bisa disusun rapi berubah seketika jadi kacau dan terburu-buru. Pemain Maung Bandung bisa dengan mudah kehilangan bola. Persebaya berada di atas angin. Menit 61 tendangan Wilkson dengan keras menerpa mistar gawang. Saat fokus mencari gol penyama, Persib kembali kebobolan melalui counter attack, Bruno Soares yang mengawali serangan mengakhiri kerjasama satu dua dengan Marukawa mengecoh M Natshir yang keluar dari sarangnya, 2-0 Persebaya memimpin. Vizcarra dan Abdul Aziz dimasukkan ganti Frets Butuan dan Dedi Kusnandar. Disusul pergantian Beckham oleh Erwin Ramdani. Serangan Persib tertuju kepada duo penyerang Luiz dan Castillion di kotak penalti. Situasi itu bisa dengan mudah dibaca pertahanan Persebaya. Mimpi buruk bagi Persib malam itu, game over, Marukawa mencatatkan brace di pertandingan saat waktu memasuki injury time. Marselino Ferdinan dengan cerdik memberi trought pass yang gagal diintersept Jupe, Marukawa berhadapan satu lawan satu dengan kiper dengan mudahnya menjebol gawang Persib ketiga kalinya, 3-0. Persib hade pisan,  pisan jeblok na,  siga maen teu boga tempo,  kudu jelas ngatur irama da lapang hujan pasti becek,  ngak ada ojek…,  anu jelas striker na mandul,  coba lamun aya goal hiji ti awal,  pasti beda,  ganti lah strikerna ku dora emon beunang mental gara2 loba peluang eweuh nu jadi goal.\\npr pisan barisan depan,\\npelatih asa teu signifikan euy strategi dadakan setelah baca permainan lawan,\\nangger rindu keneh gomez euy pelatih mah Hanya mampu bermain 45 menit, selebihnya mulai Kiper, barisan belakang terutama Jjuve, di belakang depan dan tengah semua melehoi,,,, striker wajib di ganti,,, tambah lokal pemain sayap Belakang ripuh,\\nBarisan dpn ripuh..  Save my name, email, and website in this browser for the next time I comment.  \\n\\n   This site uses Akismet to reduce spam. Learn how your comment data is processed.'"
      ]
     },
     "execution_count": 7,
     "metadata": {},
     "output_type": "execute_result"
    }
   ],
   "source": [
    "ARTICLE"
   ]
  },
  {
   "cell_type": "markdown",
   "metadata": {
    "id": "9vHPfsKo1DMm"
   },
   "source": [
    "### Memotong text menjadi beberapa bagian (Chunk)"
   ]
  },
  {
   "cell_type": "code",
   "execution_count": 8,
   "metadata": {
    "executionInfo": {
     "elapsed": 19,
     "status": "ok",
     "timestamp": 1639384572076,
     "user": {
      "displayName": "TukangKetik Developer",
      "photoUrl": "https://lh3.googleusercontent.com/a-/AOh14Ggiw8eBZNTjvuDcYaomL9Pxd4eAPNGPDCK5pI1HQTQ=s64",
      "userId": "02205519716317230320"
     },
     "user_tz": -420
    },
    "id": "Bfqjmzg-2P_-"
   },
   "outputs": [],
   "source": [
    "max_chunk = 250"
   ]
  },
  {
   "cell_type": "code",
   "execution_count": 9,
   "metadata": {
    "executionInfo": {
     "elapsed": 18,
     "status": "ok",
     "timestamp": 1639384572076,
     "user": {
      "displayName": "TukangKetik Developer",
      "photoUrl": "https://lh3.googleusercontent.com/a-/AOh14Ggiw8eBZNTjvuDcYaomL9Pxd4eAPNGPDCK5pI1HQTQ=s64",
      "userId": "02205519716317230320"
     },
     "user_tz": -420
    },
    "id": "LLRlY0u62QoB"
   },
   "outputs": [],
   "source": [
    "ARTICLE = ARTICLE.replace('.', '.<eos>')\n",
    "ARTICLE = ARTICLE.replace('?', '?<eos>')\n",
    "ARTICLE = ARTICLE.replace('!', '!<eos>')"
   ]
  },
  {
   "cell_type": "code",
   "execution_count": 10,
   "metadata": {
    "colab": {
     "base_uri": "https://localhost:8080/"
    },
    "executionInfo": {
     "elapsed": 18,
     "status": "ok",
     "timestamp": 1639384572077,
     "user": {
      "displayName": "TukangKetik Developer",
      "photoUrl": "https://lh3.googleusercontent.com/a-/AOh14Ggiw8eBZNTjvuDcYaomL9Pxd4eAPNGPDCK5pI1HQTQ=s64",
      "userId": "02205519716317230320"
     },
     "user_tz": -420
    },
    "id": "4vdNI5g12UBA",
    "outputId": "23214bf3-bb82-46eb-90a4-e87bd59e3b65"
   },
   "outputs": [
    {
     "name": "stdout",
     "output_type": "stream",
     "text": [
      "0\n"
     ]
    }
   ],
   "source": [
    "sentences = ARTICLE.split('<eos>')\n",
    "current_chunk = 0 \n",
    "chunks = []\n",
    "for sentence in sentences:\n",
    "    if len(chunks) == current_chunk + 1: \n",
    "        if len(chunks[current_chunk]) + len(sentence.split(' ')) <= max_chunk:\n",
    "            chunks[current_chunk].extend(sentence.split(' '))\n",
    "        else:\n",
    "            current_chunk += 1\n",
    "            chunks.append(sentence.split(' '))\n",
    "    else:\n",
    "        print(current_chunk)\n",
    "        chunks.append(sentence.split(' '))\n",
    "\n",
    "for chunk_id in range(len(chunks)):\n",
    "    chunks[chunk_id] = ' '.join(chunks[chunk_id])"
   ]
  },
  {
   "cell_type": "code",
   "execution_count": 11,
   "metadata": {
    "colab": {
     "base_uri": "https://localhost:8080/"
    },
    "executionInfo": {
     "elapsed": 15,
     "status": "ok",
     "timestamp": 1639384572077,
     "user": {
      "displayName": "TukangKetik Developer",
      "photoUrl": "https://lh3.googleusercontent.com/a-/AOh14Ggiw8eBZNTjvuDcYaomL9Pxd4eAPNGPDCK5pI1HQTQ=s64",
      "userId": "02205519716317230320"
     },
     "user_tz": -420
    },
    "id": "hM4ybUSX2V7H",
    "outputId": "ac1b10a8-1067-4d04-8649-ad608a39323a"
   },
   "outputs": [
    {
     "data": {
      "text/plain": [
       "3"
      ]
     },
     "execution_count": 11,
     "metadata": {},
     "output_type": "execute_result"
    }
   ],
   "source": [
    "len(chunks)"
   ]
  },
  {
   "cell_type": "markdown",
   "metadata": {
    "id": "w-SsbaDT1McS"
   },
   "source": [
    "### Membuat kesimpulan"
   ]
  },
  {
   "cell_type": "code",
   "execution_count": 12,
   "metadata": {
    "executionInfo": {
     "elapsed": 43877,
     "status": "ok",
     "timestamp": 1639384615942,
     "user": {
      "displayName": "TukangKetik Developer",
      "photoUrl": "https://lh3.googleusercontent.com/a-/AOh14Ggiw8eBZNTjvuDcYaomL9Pxd4eAPNGPDCK5pI1HQTQ=s64",
      "userId": "02205519716317230320"
     },
     "user_tz": -420
    },
    "id": "d_cWNJto2eIJ"
   },
   "outputs": [],
   "source": [
    "res = summarizer(chunks, max_length=200, min_length=30, do_sample=False)"
   ]
  },
  {
   "cell_type": "code",
   "execution_count": 13,
   "metadata": {
    "colab": {
     "base_uri": "https://localhost:8080/"
    },
    "executionInfo": {
     "elapsed": 28,
     "status": "ok",
     "timestamp": 1639384615943,
     "user": {
      "displayName": "TukangKetik Developer",
      "photoUrl": "https://lh3.googleusercontent.com/a-/AOh14Ggiw8eBZNTjvuDcYaomL9Pxd4eAPNGPDCK5pI1HQTQ=s64",
      "userId": "02205519716317230320"
     },
     "user_tz": -420
    },
    "id": "87IWIH-t2elj",
    "outputId": "28a64587-b047-4521-e127-8ad710bcfe2b"
   },
   "outputs": [
    {
     "data": {
      "text/plain": [
       "{'summary_text': ' Persib rapuh dihadapan Persebaya Surabaya dalam bentrok big match Liga 1 Rabu (8/12/2021) Persib memainkan kembali formasi 4-3-3 . Maung Bandung tak berdaya di babak kedua, aksi Taisei Marukawa dan Bruno Soares mempermalukan pertahanan Persib lewat tiga gol yang bersarang .'}"
      ]
     },
     "execution_count": 13,
     "metadata": {},
     "output_type": "execute_result"
    }
   ],
   "source": [
    "res[0]"
   ]
  },
  {
   "cell_type": "code",
   "execution_count": 14,
   "metadata": {
    "colab": {
     "base_uri": "https://localhost:8080/",
     "height": 105
    },
    "executionInfo": {
     "elapsed": 24,
     "status": "ok",
     "timestamp": 1639384615943,
     "user": {
      "displayName": "TukangKetik Developer",
      "photoUrl": "https://lh3.googleusercontent.com/a-/AOh14Ggiw8eBZNTjvuDcYaomL9Pxd4eAPNGPDCK5pI1HQTQ=s64",
      "userId": "02205519716317230320"
     },
     "user_tz": -420
    },
    "id": "wj__eEAA2gGI",
    "outputId": "945ca778-87f9-4829-8792-8e49d4882002"
   },
   "outputs": [
    {
     "data": {
      "text/plain": [
       "' Persib rapuh dihadapan Persebaya Surabaya dalam bentrok big match Liga 1 Rabu (8/12/2021) Persib memainkan kembali formasi 4-3-3 . Maung Bandung tak berdaya di babak kedua, aksi Taisei Marukawa dan Bruno Soares mempermalukan pertahanan Persib lewat tiga gol yang bersarang .  Taisei Marukawa melepas tendangan cerdik terarah membobol gawang M Natshir, 1-0 Persebaya memimpin . Robert langsung merespon gol dengan pergantian pemain, Geoffrey Castillion dimasukkan ganti Febri . Bruno Soares yang mengawali serangan mengakhiri kerjasama satu dua .  Persib hade pisan,  pisan jeblok na,  siga maen teu boga tempo,  kudu jelas ngatur irama da lapang hujan pasti becek . Marselino Ferdinan dengan cerdik memberi trought pass yang gagal diintersept Jupe, Marukawa .'"
      ]
     },
     "execution_count": 14,
     "metadata": {},
     "output_type": "execute_result"
    }
   ],
   "source": [
    "' '.join([summ['summary_text'] for summ in res])"
   ]
  },
  {
   "cell_type": "code",
   "execution_count": 15,
   "metadata": {
    "executionInfo": {
     "elapsed": 22,
     "status": "ok",
     "timestamp": 1639384615943,
     "user": {
      "displayName": "TukangKetik Developer",
      "photoUrl": "https://lh3.googleusercontent.com/a-/AOh14Ggiw8eBZNTjvuDcYaomL9Pxd4eAPNGPDCK5pI1HQTQ=s64",
      "userId": "02205519716317230320"
     },
     "user_tz": -420
    },
    "id": "l9mFNF3F2i0Y"
   },
   "outputs": [],
   "source": [
    "text = ' '.join([summ['summary_text'] for summ in res])"
   ]
  },
  {
   "cell_type": "markdown",
   "metadata": {
    "id": "pLdS8y5H1Vqp"
   },
   "source": [
    "### Output dalam bentuk txt"
   ]
  },
  {
   "cell_type": "code",
   "execution_count": 17,
   "metadata": {
    "executionInfo": {
     "elapsed": 23,
     "status": "ok",
     "timestamp": 1639384615944,
     "user": {
      "displayName": "TukangKetik Developer",
      "photoUrl": "https://lh3.googleusercontent.com/a-/AOh14Ggiw8eBZNTjvuDcYaomL9Pxd4eAPNGPDCK5pI1HQTQ=s64",
      "userId": "02205519716317230320"
     },
     "user_tz": -420
    },
    "id": "epsKspN17mEI"
   },
   "outputs": [],
   "source": [
    "with open('Results/summary_text.txt', 'w') as f:\n",
    "    f.write(text)"
   ]
  }
 ],
 "metadata": {
  "colab": {
   "authorship_tag": "ABX9TyPygQ3jR0bF6juiV1NuO3HP",
   "collapsed_sections": [],
   "name": "Huggingface-transformer-summarization-v2.ipynb",
   "provenance": []
  },
  "kernelspec": {
   "display_name": "Python 3 (ipykernel)",
   "language": "python",
   "name": "python3"
  },
  "language_info": {
   "codemirror_mode": {
    "name": "ipython",
    "version": 3
   },
   "file_extension": ".py",
   "mimetype": "text/x-python",
   "name": "python",
   "nbconvert_exporter": "python",
   "pygments_lexer": "ipython3",
   "version": "3.8.8"
  }
 },
 "nbformat": 4,
 "nbformat_minor": 1
}
