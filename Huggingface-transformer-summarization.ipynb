{
 "cells": [
  {
   "cell_type": "markdown",
   "metadata": {
    "id": "uR1ntYXQt3G6"
   },
   "source": [
    "### Install & import"
   ]
  },
  {
   "cell_type": "code",
   "execution_count": 1,
   "metadata": {
    "colab": {
     "base_uri": "https://localhost:8080/"
    },
    "executionInfo": {
     "elapsed": 26891,
     "status": "ok",
     "timestamp": 1639382529820,
     "user": {
      "displayName": "TukangKetik Developer",
      "photoUrl": "https://lh3.googleusercontent.com/a-/AOh14Ggiw8eBZNTjvuDcYaomL9Pxd4eAPNGPDCK5pI1HQTQ=s64",
      "userId": "02205519716317230320"
     },
     "user_tz": -420
    },
    "id": "0z-RqDcEuebt",
    "outputId": "c7cf8623-f6c6-416f-d4f4-f3ae711514f0"
   },
   "outputs": [
    {
     "name": "stdout",
     "output_type": "stream",
     "text": [
      "Requirement already satisfied: transformers in /opt/anaconda3/lib/python3.8/site-packages (4.13.0)\n",
      "Requirement already satisfied: huggingface-hub<1.0,>=0.1.0 in /opt/anaconda3/lib/python3.8/site-packages (from transformers) (0.2.1)\n",
      "Requirement already satisfied: tqdm>=4.27 in /opt/anaconda3/lib/python3.8/site-packages (from transformers) (4.62.3)\n",
      "Requirement already satisfied: regex!=2019.12.17 in /opt/anaconda3/lib/python3.8/site-packages (from transformers) (2021.8.3)\n",
      "Requirement already satisfied: pyyaml>=5.1 in /opt/anaconda3/lib/python3.8/site-packages (from transformers) (6.0)\n",
      "Requirement already satisfied: numpy>=1.17 in /opt/anaconda3/lib/python3.8/site-packages (from transformers) (1.20.3)\n",
      "Requirement already satisfied: filelock in /opt/anaconda3/lib/python3.8/site-packages (from transformers) (3.4.0)\n",
      "Requirement already satisfied: sacremoses in /opt/anaconda3/lib/python3.8/site-packages (from transformers) (0.0.46)\n",
      "Requirement already satisfied: requests in /opt/anaconda3/lib/python3.8/site-packages (from transformers) (2.26.0)\n",
      "Requirement already satisfied: packaging>=20.0 in /opt/anaconda3/lib/python3.8/site-packages (from transformers) (21.3)\n",
      "Requirement already satisfied: tokenizers<0.11,>=0.10.1 in /opt/anaconda3/lib/python3.8/site-packages (from transformers) (0.10.3)\n",
      "Requirement already satisfied: typing-extensions>=3.7.4.3 in /opt/anaconda3/lib/python3.8/site-packages (from huggingface-hub<1.0,>=0.1.0->transformers) (3.10.0.2)\n",
      "Requirement already satisfied: pyparsing!=3.0.5,>=2.0.2 in /opt/anaconda3/lib/python3.8/site-packages (from packaging>=20.0->transformers) (3.0.4)\n",
      "Requirement already satisfied: urllib3<1.27,>=1.21.1 in /opt/anaconda3/lib/python3.8/site-packages (from requests->transformers) (1.26.7)\n",
      "Requirement already satisfied: certifi>=2017.4.17 in /opt/anaconda3/lib/python3.8/site-packages (from requests->transformers) (2021.10.8)\n",
      "Requirement already satisfied: idna<4,>=2.5 in /opt/anaconda3/lib/python3.8/site-packages (from requests->transformers) (3.3)\n",
      "Requirement already satisfied: charset-normalizer~=2.0.0 in /opt/anaconda3/lib/python3.8/site-packages (from requests->transformers) (2.0.4)\n",
      "Requirement already satisfied: joblib in /opt/anaconda3/lib/python3.8/site-packages (from sacremoses->transformers) (1.1.0)\n",
      "Requirement already satisfied: click in /opt/anaconda3/lib/python3.8/site-packages (from sacremoses->transformers) (8.0.3)\n",
      "Requirement already satisfied: six in /opt/anaconda3/lib/python3.8/site-packages (from sacremoses->transformers) (1.16.0)\n"
     ]
    }
   ],
   "source": [
    "!pip install transformers"
   ]
  },
  {
   "cell_type": "code",
   "execution_count": 2,
   "metadata": {
    "id": "RTqIXfPDui1O"
   },
   "outputs": [],
   "source": [
    "from transformers import pipeline"
   ]
  },
  {
   "cell_type": "markdown",
   "metadata": {
    "id": "EcNEaTSXuFsI"
   },
   "source": [
    "### Load pipeline"
   ]
  },
  {
   "cell_type": "code",
   "execution_count": 3,
   "metadata": {
    "colab": {
     "base_uri": "https://localhost:8080/"
    },
    "executionInfo": {
     "elapsed": 11,
     "status": "ok",
     "timestamp": 1639382529822,
     "user": {
      "displayName": "TukangKetik Developer",
      "photoUrl": "https://lh3.googleusercontent.com/a-/AOh14Ggiw8eBZNTjvuDcYaomL9Pxd4eAPNGPDCK5pI1HQTQ=s64",
      "userId": "02205519716317230320"
     },
     "user_tz": -420
    },
    "id": "0LCZMM5XuoPF",
    "outputId": "1be917db-3c74-4024-b10b-8fd3208daca7"
   },
   "outputs": [
    {
     "name": "stderr",
     "output_type": "stream",
     "text": [
      "No model was supplied, defaulted to sshleifer/distilbart-cnn-12-6 (https://huggingface.co/sshleifer/distilbart-cnn-12-6)\n"
     ]
    },
    {
     "data": {
      "application/vnd.jupyter.widget-view+json": {
       "model_id": "0d405b78aef648bf86e245b2009d9c51",
       "version_major": 2,
       "version_minor": 0
      },
      "text/plain": [
       "Downloading:   0%|          | 0.00/1.14G [00:00<?, ?B/s]"
      ]
     },
     "metadata": {},
     "output_type": "display_data"
    },
    {
     "data": {
      "application/vnd.jupyter.widget-view+json": {
       "model_id": "b78291655a8142e186bb8d27dc76f354",
       "version_major": 2,
       "version_minor": 0
      },
      "text/plain": [
       "Downloading:   0%|          | 0.00/26.0 [00:00<?, ?B/s]"
      ]
     },
     "metadata": {},
     "output_type": "display_data"
    },
    {
     "data": {
      "application/vnd.jupyter.widget-view+json": {
       "model_id": "2a1ff353d5184db098da4b90ab784cea",
       "version_major": 2,
       "version_minor": 0
      },
      "text/plain": [
       "Downloading:   0%|          | 0.00/878k [00:00<?, ?B/s]"
      ]
     },
     "metadata": {},
     "output_type": "display_data"
    },
    {
     "data": {
      "application/vnd.jupyter.widget-view+json": {
       "model_id": "90809efa4b2540c8ac512df73e5eddc8",
       "version_major": 2,
       "version_minor": 0
      },
      "text/plain": [
       "Downloading:   0%|          | 0.00/446k [00:00<?, ?B/s]"
      ]
     },
     "metadata": {},
     "output_type": "display_data"
    }
   ],
   "source": [
    "summarizer = pipeline(\"summarization\")"
   ]
  },
  {
   "cell_type": "markdown",
   "metadata": {
    "id": "mlUA6QPEuWmt"
   },
   "source": [
    "### Buat kesimpulan"
   ]
  },
  {
   "cell_type": "code",
   "execution_count": 4,
   "metadata": {
    "id": "p3Uvwa6wuyGj"
   },
   "outputs": [],
   "source": [
    "ARTIKEL = \"\"\"\n",
    "Pertahanan Persib rapuh dihadapan Persebaya Surabaya dalam bentrok big match Liga 1 Rabu (8/12/2021) malam di Stadion Maguwoharjo Sleman. Maung Bandung tak berdaya di babak kedua, aksi Taisei Marukawa dan Bruno Soares mempermalukan pertahanan Persib lewat tiga gol yang bersarang.\n",
    "Persebaya memperlihatkan permainan efektif, meski di babak pertama didominasi Persib. Aji Santoso bisa membalikkan situasi permainan di babak kedua dengan pergantian kunci memasukkan Rizky Ridho. Intensitas serangan ditingkatkan rencananya berbuah manis lewat gelontoran gol yang memukau.\n",
    "Babak I\n",
    "Persib memainkan kembali formasi 4-3-3, Dedi Kusnandar, Marc Klok, dan Beckham jadi pilihan utama sebagai motor permainan. Penguasaan bola diambil alih sejak menit pertama, lini tengah Persib begitu dominan dari pada Persebaya, dengan variasi umpan satu dua sentuhan sesekali umpan panjang.\n",
    "Frets Butuan melepas tendangan mengena tiang menit 4. Beckham Putra menunjukkan eksplosivitas serangan sebagai penghubung lini tengah ke lini depan. Menit 13, ia mengecoh tiga pemain di dalam kotak penalti, aksi itu tak diakhiri dengan penyelesaian yang sempurna.\n",
    "Memasuki 10 menit ketiga, Persebaya mulai kewalahan dengan determinasi serangan yang ditunjukkan lawannya. Pelanggaran-pelanggaran di depan kotak penalti intens dilakukan barisan pertahanan Persebaya terhadap Febri dan Frets yang malam itu cukup liar.\n",
    "Tendangan set piece Klok menit 34 tepat sasaran masih ditepis Ernando. Tiga menit kemudian Febri dapat peluang tembak dari kesalahan bek lawan di dalam kotak penalti, blok Ernando. Crossing Frets disundul Wander Luiz menit 41 lagi-lagi Ernando menyelamatkan.\n",
    "Trio asing Bajul Ijo, Jose Wilkson, Taisei Marukawa, dan Bruno Soares yang sejak awal diprediksi akan merepotkan, tak begitu kelihatan aksinya. Deadlock di lini tengah buat aliran bola kepada Marukawa dan Bruno menjadi minim. Tak ada ancaman berarti ke gawang M Natshir di babak pertama.\n",
    "\"\"\""
   ]
  },
  {
   "cell_type": "code",
   "execution_count": 7,
   "metadata": {
    "colab": {
     "base_uri": "https://localhost:8080/"
    },
    "executionInfo": {
     "elapsed": 18961,
     "status": "ok",
     "timestamp": 1639382548776,
     "user": {
      "displayName": "TukangKetik Developer",
      "photoUrl": "https://lh3.googleusercontent.com/a-/AOh14Ggiw8eBZNTjvuDcYaomL9Pxd4eAPNGPDCK5pI1HQTQ=s64",
      "userId": "02205519716317230320"
     },
     "user_tz": -420
    },
    "id": "eMMQog-yvHV8",
    "outputId": "d1f70a39-9927-4759-e27b-52b406603965"
   },
   "outputs": [],
   "source": [
    "summary = summarizer(ARTIKEL, max_length=200, min_length=20, do_sample=False)"
   ]
  },
  {
   "cell_type": "code",
   "execution_count": 8,
   "metadata": {},
   "outputs": [
    {
     "data": {
      "text/plain": [
       "' Persib rapuh dihadapan Persebaya Surabaya dalam bentrok big match Liga 1 Rabu (8/12/2021) Persib memainkan kembali formasi 4-3-3, Dedi Kusnandar, Marc Klok, dan Beckham jadi pilihan utama .'"
      ]
     },
     "execution_count": 8,
     "metadata": {},
     "output_type": "execute_result"
    }
   ],
   "source": [
    "summary[0]['summary_text']"
   ]
  },
  {
   "cell_type": "code",
   "execution_count": null,
   "metadata": {},
   "outputs": [],
   "source": []
  }
 ],
 "metadata": {
  "colab": {
   "authorship_tag": "ABX9TyNefyB9VhiGcBadLSe7lJ59",
   "collapsed_sections": [],
   "name": "Huggingface-transformer-summarization.ipynb",
   "provenance": []
  },
  "kernelspec": {
   "display_name": "Python 3 (ipykernel)",
   "language": "python",
   "name": "python3"
  },
  "language_info": {
   "codemirror_mode": {
    "name": "ipython",
    "version": 3
   },
   "file_extension": ".py",
   "mimetype": "text/x-python",
   "name": "python",
   "nbconvert_exporter": "python",
   "pygments_lexer": "ipython3",
   "version": "3.8.8"
  }
 },
 "nbformat": 4,
 "nbformat_minor": 1
}
