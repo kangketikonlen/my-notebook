{
 "cells": [
  {
   "cell_type": "markdown",
   "id": "4ae7c2e0",
   "metadata": {},
   "source": [
    "# Python Fundamentals"
   ]
  },
  {
   "cell_type": "markdown",
   "id": "0d9dfa13",
   "metadata": {},
   "source": [
    "## Sumber dari video youtube [Python for Beginners - Learn Python in 1 Hour](https://www.youtube.com/watch?v=kqtD5dpn9C8)"
   ]
  },
  {
   "cell_type": "markdown",
   "id": "846c7079",
   "metadata": {},
   "source": [
    "### Variables\n",
    "Note: *variable* digunakan untuk menyimpan data sementara."
   ]
  },
  {
   "cell_type": "code",
   "execution_count": 1,
   "id": "dc2ec230",
   "metadata": {},
   "outputs": [],
   "source": [
    "usia = 20 # integer\n",
    "harga = 19.95 #  float\n",
    "nama_lengkap = \"Gilang Pratama P\" # string\n",
    "is_online = False # Boolean"
   ]
  },
  {
   "cell_type": "markdown",
   "id": "6015d6db",
   "metadata": {},
   "source": [
    "### Menerima Input\n",
    "Note: *String concatination* adalah penggabungan *string* dengan variable."
   ]
  },
  {
   "cell_type": "code",
   "execution_count": 2,
   "id": "72609841",
   "metadata": {},
   "outputs": [
    {
     "name": "stdout",
     "output_type": "stream",
     "text": [
      "Siapakah nama anda? Gilang\n",
      "Hello, Gilang\n"
     ]
    }
   ],
   "source": [
    "nama_lengkap = input(\"Siapakah nama anda? \")\n",
    "print(f\"Hello, {nama_lengkap}\") # String concatination"
   ]
  },
  {
   "cell_type": "markdown",
   "id": "0eb9a45f",
   "metadata": {},
   "source": [
    "### Type Conversion\n",
    "Note: Fungsi *input()* akan selalu menghasilkan *string*. Maka dari itu, fungsi konversi di perlukan."
   ]
  },
  {
   "cell_type": "code",
   "execution_count": 3,
   "id": "86b8d8d6",
   "metadata": {},
   "outputs": [
    {
     "name": "stdout",
     "output_type": "stream",
     "text": [
      "Masukkan tahun kelahiran: 1996\n",
      "26\n"
     ]
    }
   ],
   "source": [
    "tahun_kelahiran = input(\"Masukkan tahun kelahiran: \")\n",
    "umur = 2022 - int(tahun_kelahiran) # Konversi str ke int\n",
    "print(umur)"
   ]
  },
  {
   "cell_type": "markdown",
   "id": "81b4a411",
   "metadata": {},
   "source": [
    "### Strings\n",
    "Note: Sebuah string di dalam variable adalah sebuah string object. Silahkan cek metode lainnya di [W3School](https://www.w3schools.com/python/python_ref_string.asp)."
   ]
  },
  {
   "cell_type": "code",
   "execution_count": 4,
   "id": "e92bcf52",
   "metadata": {},
   "outputs": [],
   "source": [
    "# Set variable string bernama \"title\"\n",
    "title = \"Tutorial python untuk pemula\""
   ]
  },
  {
   "cell_type": "code",
   "execution_count": 5,
   "id": "b065a77c",
   "metadata": {},
   "outputs": [
    {
     "name": "stdout",
     "output_type": "stream",
     "text": [
      "TUTORIAL PYTHON UNTUK PEMULA\n"
     ]
    }
   ],
   "source": [
    "# Merubah string ke huruf kapital\n",
    "print(title.upper())"
   ]
  },
  {
   "cell_type": "code",
   "execution_count": 6,
   "id": "2a6b0b2b",
   "metadata": {},
   "outputs": [
    {
     "name": "stdout",
     "output_type": "stream",
     "text": [
      "9\n"
     ]
    }
   ],
   "source": [
    "# Mencari index dari string\n",
    "print(title.find(\"python\"))"
   ]
  },
  {
   "cell_type": "code",
   "execution_count": 7,
   "id": "41811889",
   "metadata": {},
   "outputs": [
    {
     "name": "stdout",
     "output_type": "stream",
     "text": [
      "Pelajaran python untuk pemula\n"
     ]
    }
   ],
   "source": [
    "# Mengganti suatu kata atau huruf pada sebuah string\n",
    "print(title.replace(\"Tutorial\", \"Pelajaran\"))"
   ]
  },
  {
   "cell_type": "code",
   "execution_count": 8,
   "id": "45e372b5",
   "metadata": {},
   "outputs": [
    {
     "name": "stdout",
     "output_type": "stream",
     "text": [
      "True\n"
     ]
    }
   ],
   "source": [
    "# Mencari apakah ada kata di dalam string\n",
    "print(\"python\" in title)"
   ]
  },
  {
   "cell_type": "markdown",
   "id": "fa418dd0",
   "metadata": {},
   "source": [
    "### Arithmetic\n",
    "Note: Digunakan dengan nilai integer untuk melakukan operasi matematika umum."
   ]
  },
  {
   "cell_type": "code",
   "execution_count": 9,
   "id": "1ddbb98f",
   "metadata": {},
   "outputs": [
    {
     "name": "stdout",
     "output_type": "stream",
     "text": [
      "Hasil dari 3+3 adalah, 6\n"
     ]
    }
   ],
   "source": [
    "# Penambahan (+)\n",
    "print(f\"Hasil dari 3+3 adalah, {3+3}\")"
   ]
  },
  {
   "cell_type": "code",
   "execution_count": 10,
   "id": "81e57c91",
   "metadata": {},
   "outputs": [
    {
     "name": "stdout",
     "output_type": "stream",
     "text": [
      "Hasil dari 2021-1996 adalah, 25\n"
     ]
    }
   ],
   "source": [
    "# Pengurangan (-)\n",
    "print(f\"Hasil dari 2021-1996 adalah, {2021-1996}\")"
   ]
  },
  {
   "cell_type": "code",
   "execution_count": 11,
   "id": "b4a8cceb",
   "metadata": {},
   "outputs": [
    {
     "name": "stdout",
     "output_type": "stream",
     "text": [
      "Hasil dari 10x10 adalah, 100\n"
     ]
    }
   ],
   "source": [
    "# Perkalian (*)\n",
    "print(f\"Hasil dari 10x10 adalah, {10*10}\")"
   ]
  },
  {
   "cell_type": "code",
   "execution_count": 12,
   "id": "d65aa8d3",
   "metadata": {},
   "outputs": [
    {
     "name": "stdout",
     "output_type": "stream",
     "text": [
      "Hasil dari 15 dibagi 4 adalah, 3.75\n"
     ]
    }
   ],
   "source": [
    "# Pembagian (/)\n",
    "print(f\"Hasil dari 15 dibagi 4 adalah, {15/4}\")"
   ]
  },
  {
   "cell_type": "code",
   "execution_count": 13,
   "id": "cc2ca2eb",
   "metadata": {},
   "outputs": [
    {
     "name": "stdout",
     "output_type": "stream",
     "text": [
      "Hasil sisa dari 20 dibagi 13 adalah, 7\n"
     ]
    }
   ],
   "source": [
    "# Modulus (%)\n",
    "print(f\"Hasil sisa dari 20 dibagi 13 adalah, {20%13}\")"
   ]
  },
  {
   "cell_type": "code",
   "execution_count": 14,
   "id": "c17a48f2",
   "metadata": {},
   "outputs": [
    {
     "name": "stdout",
     "output_type": "stream",
     "text": [
      "Hasil dari 2 pangkat 2 adalah, 4\n"
     ]
    }
   ],
   "source": [
    "# Perpangkatan (**)\n",
    "print(f\"Hasil dari 2 pangkat 2 adalah, {2**2}\")"
   ]
  },
  {
   "cell_type": "code",
   "execution_count": 15,
   "id": "bd9eace2",
   "metadata": {},
   "outputs": [
    {
     "name": "stdout",
     "output_type": "stream",
     "text": [
      "Hasil dari pembagian bulat 15 dan 4 adalah, 3\n"
     ]
    }
   ],
   "source": [
    "# Pembagian dengan pembulatan \n",
    "print(f\"Hasil dari pembagian bulat 15 dan 4 adalah, {15//4}\")"
   ]
  },
  {
   "cell_type": "markdown",
   "id": "e19dc3e3",
   "metadata": {},
   "source": [
    "### Operasi Prioritas\n",
    "Note: Digunakan untuk memprioritaskan perhitungan."
   ]
  },
  {
   "cell_type": "code",
   "execution_count": 16,
   "id": "8c0a15b5",
   "metadata": {},
   "outputs": [
    {
     "name": "stdout",
     "output_type": "stream",
     "text": [
      "Hasil dari variable x adalah 26\n"
     ]
    }
   ],
   "source": [
    "x = (10+3)*2\n",
    "print(f\"Hasil dari variable x adalah {x}\")"
   ]
  },
  {
   "cell_type": "markdown",
   "id": "c7c2c231",
   "metadata": {},
   "source": [
    "### Operasi Perbandingan\n",
    "Note: Digunakan untuk membandingkan data. Hasil dari operasi ini adalah boolean (True or False)"
   ]
  },
  {
   "cell_type": "code",
   "execution_count": 17,
   "id": "0f38ad19",
   "metadata": {},
   "outputs": [
    {
     "name": "stdout",
     "output_type": "stream",
     "text": [
      "Apakah 3 lebih dari 2? True\n"
     ]
    }
   ],
   "source": [
    "# Perbandingan lebih dari\n",
    "x = 3>2\n",
    "print(f\"Apakah 3 lebih dari 2? {x}\")"
   ]
  },
  {
   "cell_type": "code",
   "execution_count": 18,
   "id": "bf396d86",
   "metadata": {},
   "outputs": [
    {
     "name": "stdout",
     "output_type": "stream",
     "text": [
      "Apakah 3 lebih dari atau sama dengan 2? True\n"
     ]
    }
   ],
   "source": [
    "# Perbandingan lebih dari sama dengan\n",
    "x = 3>=2\n",
    "print(f\"Apakah 3 lebih dari atau sama dengan 2? {x}\")"
   ]
  },
  {
   "cell_type": "code",
   "execution_count": 19,
   "id": "54a6d572",
   "metadata": {},
   "outputs": [
    {
     "name": "stdout",
     "output_type": "stream",
     "text": [
      "Apakah 3 kurang dari 2? False\n"
     ]
    }
   ],
   "source": [
    "# Perbandingan kurang dari\n",
    "x = 3<2\n",
    "print(f\"Apakah 3 kurang dari 2? {x}\")"
   ]
  },
  {
   "cell_type": "code",
   "execution_count": 20,
   "id": "5df1d78b",
   "metadata": {},
   "outputs": [
    {
     "name": "stdout",
     "output_type": "stream",
     "text": [
      "Apakah 3 kurang dari atau sama dengan 2? False\n"
     ]
    }
   ],
   "source": [
    "# Perbandingan kurang dari atau sama dengan\n",
    "x = 3<=2\n",
    "print(f\"Apakah 3 kurang dari atau sama dengan 2? {x}\")"
   ]
  },
  {
   "cell_type": "code",
   "execution_count": 21,
   "id": "25791b19",
   "metadata": {},
   "outputs": [
    {
     "name": "stdout",
     "output_type": "stream",
     "text": [
      "Apakah 3 sama dengan 2? False\n"
     ]
    }
   ],
   "source": [
    "# Perbandingan lebih dari\n",
    "x = 3==2\n",
    "print(f\"Apakah 3 sama dengan 2? {x}\")"
   ]
  },
  {
   "cell_type": "code",
   "execution_count": 22,
   "id": "5a3c49dc",
   "metadata": {},
   "outputs": [
    {
     "name": "stdout",
     "output_type": "stream",
     "text": [
      "Apakah 3 tidak sama dengan 2? True\n"
     ]
    }
   ],
   "source": [
    "# Perbandingan tidak sama dengan\n",
    "x = 3!=2\n",
    "print(f\"Apakah 3 tidak sama dengan 2? {x}\")"
   ]
  },
  {
   "cell_type": "markdown",
   "id": "3ddc9597",
   "metadata": {},
   "source": [
    "### Operator Logika\n",
    "Note: Digunakan untuk membandingkan 2 perbandingan atau boolean. Hasil dari operasi ini adalah boolean."
   ]
  },
  {
   "cell_type": "code",
   "execution_count": 23,
   "id": "857af858",
   "metadata": {},
   "outputs": [
    {
     "name": "stdout",
     "output_type": "stream",
     "text": [
      "Harga barang adalah 1000 apakah masuk budget? True\n"
     ]
    }
   ],
   "source": [
    "# Perbandingan (and) menghasilkan True jika hasil dari kedua perbandingan bernilai True\n",
    "harga = 1000\n",
    "results = (harga > 500 and harga == 1000)\n",
    "print(f\"Harga barang adalah {harga} apakah masuk budget? {results}\")"
   ]
  },
  {
   "cell_type": "code",
   "execution_count": 24,
   "id": "1ffc9b25",
   "metadata": {},
   "outputs": [
    {
     "name": "stdout",
     "output_type": "stream",
     "text": [
      "Harga barang adalah 2000 apakah masuk budget? True\n"
     ]
    }
   ],
   "source": [
    "# Perbandingan (or) menghasilkan True jika salah satu atau keduanya bernilai True\n",
    "harga = 2000\n",
    "results = (harga >= 500 or harga <= 1000)\n",
    "print(f\"Harga barang adalah {harga} apakah masuk budget? {results}\")"
   ]
  },
  {
   "cell_type": "code",
   "execution_count": 25,
   "id": "44ce40e8",
   "metadata": {},
   "outputs": [
    {
     "name": "stdout",
     "output_type": "stream",
     "text": [
      "Harga barang adalah 3000 apakah masuk budget? True\n"
     ]
    }
   ],
   "source": [
    "# Perbandingan (not) menghasilkan True jika variable bernilai True\n",
    "harga = 3000\n",
    "results = (not harga > 5000)\n",
    "print(f\"Harga barang adalah {harga} apakah masuk budget? {results}\")"
   ]
  },
  {
   "cell_type": "markdown",
   "id": "78efa8b7",
   "metadata": {},
   "source": [
    "### Pernyataan IF\n",
    "Note: Digunakan untuk membuat keputusan pada program"
   ]
  },
  {
   "cell_type": "code",
   "execution_count": 26,
   "id": "0b51da9a",
   "metadata": {},
   "outputs": [],
   "source": [
    "# Ubah variable ini untuk menghasilkan output yang berbeda\n",
    "suhu = 9"
   ]
  },
  {
   "cell_type": "code",
   "execution_count": 27,
   "id": "32fc93b9",
   "metadata": {},
   "outputs": [
    {
     "name": "stdout",
     "output_type": "stream",
     "text": [
      "Suhu hari ini 9 dingin banget!\n"
     ]
    }
   ],
   "source": [
    "if suhu > 30: # Jika var suhu lebih dari 30\n",
    "    print(f\"Suhu hari ini {suhu} jangan lupa minum!\")\n",
    "elif suhu > 20: # Jika var suhu diantara 20 sampai 30\n",
    "    print(f\"Suhu hari ini {suhu} cuaca yang baik untuk beraktifitas di luar!\")\n",
    "elif suhu < 10: # Jika var suhu kurang dari 10\n",
    "    print(f\"Suhu hari ini {suhu} dingin banget!\")\n",
    "else: # Jika var suhu diantara 11 sampai 20\n",
    "    print(f\"Suhu hari ini {suhu} cuacanya biasa - biasa saja!\")"
   ]
  },
  {
   "cell_type": "markdown",
   "id": "89e9e11c",
   "metadata": {},
   "source": [
    "### Contoh program\n",
    "Note: Program sederhana konversi berat badan kg ke lbs dan sebaliknya."
   ]
  },
  {
   "cell_type": "code",
   "execution_count": 28,
   "id": "3da491a7",
   "metadata": {},
   "outputs": [
    {
     "name": "stdout",
     "output_type": "stream",
     "text": [
      "Berat Badan: 85\n"
     ]
    }
   ],
   "source": [
    "# Input berat badan (bb) dan menyimpannya ke dalam variable\n",
    "bb = int(input(\"Berat Badan: \"))"
   ]
  },
  {
   "cell_type": "code",
   "execution_count": 29,
   "id": "549dca64",
   "metadata": {},
   "outputs": [
    {
     "name": "stdout",
     "output_type": "stream",
     "text": [
      "(K)g atau (L)bs: K\n"
     ]
    }
   ],
   "source": [
    "# Input satuan dari berat badan Kg (K) atau Lbs(L)\n",
    "satuan = input(\"(K)g atau (L)bs: \")"
   ]
  },
  {
   "cell_type": "code",
   "execution_count": 30,
   "id": "c7b9a260",
   "metadata": {},
   "outputs": [
    {
     "name": "stdout",
     "output_type": "stream",
     "text": [
      "Berat badan anda dalam satuan Lbs adalah, 188.88888888888889\n"
     ]
    }
   ],
   "source": [
    "# Melakukan operasi keputusan, satuan Kg atau Lbs\n",
    "if satuan.upper() == \"K\":\n",
    "    konversi = bb / 0.45\n",
    "    print(f\"Berat badan anda dalam satuan Lbs adalah, {konversi}\")\n",
    "elif satuan.upper() == \"L\":\n",
    "    konversi = bb * 0.45\n",
    "    print(f\"Berat badan anda dalam satuan Kg adalah, {konversi}\")\n",
    "else:\n",
    "    print(f\"Harap memilih satuan Kg dengan huruf K atau Lbs dengan huruf L!\")"
   ]
  },
  {
   "cell_type": "markdown",
   "id": "e391cb04",
   "metadata": {},
   "source": [
    "### While Loops\n",
    "Note: Digunakan untuk mengulang blok perintah."
   ]
  },
  {
   "cell_type": "code",
   "execution_count": 31,
   "id": "ce9456ae",
   "metadata": {},
   "outputs": [
    {
     "name": "stdout",
     "output_type": "stream",
     "text": [
      "Nomor ke-1\n",
      "Nomor ke-2\n",
      "Nomor ke-3\n",
      "Nomor ke-4\n",
      "Nomor ke-5\n"
     ]
    }
   ],
   "source": [
    "i = 1\n",
    "while i <= 5: # Perintah dibawah ini (blok) akan diulang terus hingga menghasilkan True.\n",
    "    print(f\"Nomor ke-{i}\")\n",
    "    i = i+1"
   ]
  },
  {
   "cell_type": "markdown",
   "id": "8f28bd76",
   "metadata": {},
   "source": [
    "### Lists\n",
    "Note: Digunakan untuk menjabarkan daftar suatu object."
   ]
  },
  {
   "cell_type": "code",
   "execution_count": 32,
   "id": "0a8fd937",
   "metadata": {},
   "outputs": [],
   "source": [
    "# Membuat variable nama dengan tipe lists\n",
    "nama = [\"Gilang\", \"Ujang\", \"Dadang\", \"Asep\"]"
   ]
  },
  {
   "cell_type": "code",
   "execution_count": 33,
   "id": "3799a99f",
   "metadata": {},
   "outputs": [
    {
     "name": "stdout",
     "output_type": "stream",
     "text": [
      "Daftar nama orang ganteng ['Gilang', 'Ujang', 'Dadang', 'Asep']\n"
     ]
    }
   ],
   "source": [
    "# Mengeluarkan hasil dari variable lists\n",
    "print(f\"Daftar nama orang ganteng {nama}\")"
   ]
  },
  {
   "cell_type": "code",
   "execution_count": 34,
   "id": "ffe635cb",
   "metadata": {},
   "outputs": [
    {
     "name": "stdout",
     "output_type": "stream",
     "text": [
      "Orang paling ganteng adalah Gilang\n"
     ]
    }
   ],
   "source": [
    "# Mengeluarkan 1 data menggunakan nomor index\n",
    "print(f\"Orang paling ganteng adalah {nama[0]}\")"
   ]
  },
  {
   "cell_type": "code",
   "execution_count": 35,
   "id": "4a30c9eb",
   "metadata": {},
   "outputs": [
    {
     "name": "stdout",
     "output_type": "stream",
     "text": [
      "Orang paling baik adalah Asep\n"
     ]
    }
   ],
   "source": [
    "# Mengeluarkan 1 data menggunakan nomor index negatif\n",
    "print(f\"Orang paling baik adalah {nama[-1]}\")"
   ]
  },
  {
   "cell_type": "code",
   "execution_count": 36,
   "id": "5444243f",
   "metadata": {},
   "outputs": [
    {
     "name": "stdout",
     "output_type": "stream",
     "text": [
      "3 orang paling ganteng adalah ['Gilang', 'Ujang', 'Dadang']\n"
     ]
    }
   ],
   "source": [
    "# Mengeluarkan data antara index X sampai X\n",
    "print(f\"3 orang paling ganteng adalah {nama[0:3]}\")"
   ]
  },
  {
   "cell_type": "markdown",
   "id": "b734aed4",
   "metadata": {},
   "source": [
    "### Lists Methods\n",
    "Note: Digunakan untuk memanipulasi lists"
   ]
  },
  {
   "cell_type": "code",
   "execution_count": 37,
   "id": "cde02ad1",
   "metadata": {},
   "outputs": [],
   "source": [
    "# Menyimpan daftar angka ke dalam variable nomor.\n",
    "nomor = [1,2,3,4,5]"
   ]
  },
  {
   "cell_type": "code",
   "execution_count": 38,
   "id": "11d80228",
   "metadata": {},
   "outputs": [
    {
     "name": "stdout",
     "output_type": "stream",
     "text": [
      "Angka 6 sudah di tambahkan di akhir. Daftar nomor menjadi, [1, 2, 3, 4, 5, 6]\n"
     ]
    }
   ],
   "source": [
    "# Menambahkan angka di akhir sebuah daftar.\n",
    "nomor.append(6)\n",
    "print(f\"Angka 6 sudah di tambahkan di akhir. Daftar nomor menjadi, {nomor}\")"
   ]
  },
  {
   "cell_type": "code",
   "execution_count": 39,
   "id": "1e216871",
   "metadata": {},
   "outputs": [
    {
     "name": "stdout",
     "output_type": "stream",
     "text": [
      "Angka 0 telah ditambahkan pada index ke-0. Daftar menjadi, [0, 1, 2, 3, 4, 5, 6]\n"
     ]
    }
   ],
   "source": [
    "# Menambahkan angka ke dalam daftar pada urutan index ke 0 (list.insert(index(int), data(_T)))\n",
    "nomor.insert(0, 0)\n",
    "print(f\"Angka 0 telah ditambahkan pada index ke-0. Daftar menjadi, {nomor}\")"
   ]
  },
  {
   "cell_type": "code",
   "execution_count": 40,
   "id": "14db1248",
   "metadata": {},
   "outputs": [
    {
     "name": "stdout",
     "output_type": "stream",
     "text": [
      "Index ke-4 yaitu angka 4 telah di hapus. Daftar menjadi [0, 1, 2, 3, 5, 6]\n"
     ]
    }
   ],
   "source": [
    "# Menghapus angka pada index ke-4 (lists.remove(index(int)))\n",
    "nomor.remove(4)\n",
    "print(f\"Index ke-4 yaitu angka 4 telah di hapus. Daftar menjadi {nomor}\")"
   ]
  },
  {
   "cell_type": "code",
   "execution_count": 41,
   "id": "d6db7294",
   "metadata": {},
   "outputs": [
    {
     "name": "stdout",
     "output_type": "stream",
     "text": [
      "Apakah 3 ada di dalam daftar? True\n"
     ]
    }
   ],
   "source": [
    "# Memeriksa suatu data di dalam list.\n",
    "print(f\"Apakah 3 ada di dalam daftar? {3 in nomor}\")"
   ]
  },
  {
   "cell_type": "code",
   "execution_count": 42,
   "id": "e9e53744",
   "metadata": {},
   "outputs": [
    {
     "name": "stdout",
     "output_type": "stream",
     "text": [
      "Jumlah daftar nomor adalah 6\n"
     ]
    }
   ],
   "source": [
    "# Menghitung jumlah data di dalam daftar.\n",
    "print(f\"Jumlah daftar nomor adalah {len(nomor)}\")"
   ]
  },
  {
   "cell_type": "code",
   "execution_count": 43,
   "id": "b565fa21",
   "metadata": {},
   "outputs": [
    {
     "name": "stdout",
     "output_type": "stream",
     "text": [
      "Daftar nomor telah di reset. Daftar menjadi []\n"
     ]
    }
   ],
   "source": [
    "# Menghapus atau mereset lists.\n",
    "nomor.clear()\n",
    "print(f\"Daftar nomor telah di reset. Daftar menjadi {nomor}\")"
   ]
  },
  {
   "cell_type": "markdown",
   "id": "f58cc9ad",
   "metadata": {},
   "source": [
    "### For Loops\n",
    "Note: Digunakan untuk melakukan perulangan"
   ]
  },
  {
   "cell_type": "code",
   "execution_count": 44,
   "id": "f3a85edc",
   "metadata": {},
   "outputs": [],
   "source": [
    "# Menyimpan daftar nama kedalam variable users.\n",
    "users = [\"Ujang\", \"Asep\", \"Dadang\", \"Ecih\"]"
   ]
  },
  {
   "cell_type": "code",
   "execution_count": 45,
   "id": "ab4ebb2b",
   "metadata": {},
   "outputs": [
    {
     "name": "stdout",
     "output_type": "stream",
     "text": [
      "A wild pokemon Ujang appeared!\n",
      "A wild pokemon Asep appeared!\n",
      "A wild pokemon Dadang appeared!\n",
      "A wild pokemon Ecih appeared!\n"
     ]
    }
   ],
   "source": [
    "# Melakukan pengulangan dan mengeluarkan output user berdasarkan daftar dalam variable users\n",
    "for user in users:\n",
    "    print(f\"A wild pokemon {user} appeared!\")"
   ]
  },
  {
   "cell_type": "markdown",
   "id": "c2eec519",
   "metadata": {},
   "source": [
    "### Fungsi Range()\n",
    "Note: Digunakan untuk menghasilkan urutan nomer. "
   ]
  },
  {
   "cell_type": "code",
   "execution_count": 46,
   "id": "29ec5c28",
   "metadata": {},
   "outputs": [
    {
     "name": "stdout",
     "output_type": "stream",
     "text": [
      "Nomor ke-0\n",
      "Nomor ke-1\n",
      "Nomor ke-2\n",
      "Nomor ke-3\n",
      "Nomor ke-4\n"
     ]
    }
   ],
   "source": [
    "# Membuat range dengan urutan 0 sampai 5\n",
    "nomor = range(5)\n",
    "for no in nomor:\n",
    "    print(f\"Nomor ke-{no}\")"
   ]
  },
  {
   "cell_type": "code",
   "execution_count": 47,
   "id": "f48e1494",
   "metadata": {},
   "outputs": [
    {
     "name": "stdout",
     "output_type": "stream",
     "text": [
      "Nomor ke-5\n",
      "Nomor ke-6\n",
      "Nomor ke-7\n",
      "Nomor ke-8\n",
      "Nomor ke-9\n"
     ]
    }
   ],
   "source": [
    "# Membuat range dengan urutan dari 5 sampai 9\n",
    "nomor = range(5, 10)\n",
    "for no in nomor:\n",
    "    print(f\"Nomor ke-{no}\")"
   ]
  },
  {
   "cell_type": "code",
   "execution_count": 48,
   "id": "4c5af699",
   "metadata": {},
   "outputs": [
    {
     "name": "stdout",
     "output_type": "stream",
     "text": [
      "Nomor ke-5\n",
      "Nomor ke-7\n",
      "Nomor ke-9\n"
     ]
    }
   ],
   "source": [
    "# Membuat range dengan urutan dari 5 sampai 9 dengan tingkat 2\n",
    "nomor = range(5, 10, 2)\n",
    "for no in nomor:\n",
    "    print(f\"Nomor ke-{no}\")"
   ]
  },
  {
   "cell_type": "markdown",
   "id": "d1f276b0",
   "metadata": {},
   "source": [
    "### Tuples\n",
    "Note: Tuples sama dengan lists namun imutable, yang artinya tidak dapat diubah setelah dibuat. Dan untuk mendeklarasikannya menggunakan tanda kurung biasa () beda dengan lists yang menggunakan kurung siku []."
   ]
  },
  {
   "cell_type": "code",
   "execution_count": 49,
   "id": "1f6930e7",
   "metadata": {},
   "outputs": [],
   "source": [
    "# Membuat tuples berisi angka ke dalam variable nomor.\n",
    "nomor = (1,2,3)"
   ]
  },
  {
   "cell_type": "code",
   "execution_count": 50,
   "id": "566ebb8c",
   "metadata": {},
   "outputs": [
    {
     "ename": "AttributeError",
     "evalue": "'tuple' object has no attribute 'append'",
     "output_type": "error",
     "traceback": [
      "\u001b[0;31m---------------------------------------------------------------------------\u001b[0m",
      "\u001b[0;31mAttributeError\u001b[0m                            Traceback (most recent call last)",
      "\u001b[0;32m/var/folders/zp/y4wldtnn51jdytj8x08rsccc0000gn/T/ipykernel_2796/3589526060.py\u001b[0m in \u001b[0;36m<module>\u001b[0;34m\u001b[0m\n\u001b[1;32m      1\u001b[0m \u001b[0;31m# Variable akan menghasilkan error jika dimanipulasi.\u001b[0m\u001b[0;34m\u001b[0m\u001b[0;34m\u001b[0m\u001b[0;34m\u001b[0m\u001b[0m\n\u001b[0;32m----> 2\u001b[0;31m \u001b[0mnomor\u001b[0m\u001b[0;34m.\u001b[0m\u001b[0mappend\u001b[0m\u001b[0;34m(\u001b[0m\u001b[0;36m3\u001b[0m\u001b[0;34m)\u001b[0m\u001b[0;34m\u001b[0m\u001b[0;34m\u001b[0m\u001b[0m\n\u001b[0m",
      "\u001b[0;31mAttributeError\u001b[0m: 'tuple' object has no attribute 'append'"
     ]
    }
   ],
   "source": [
    "# Variable akan menghasilkan error jika dimanipulasi.\n",
    "nomor.append(3)"
   ]
  }
 ],
 "metadata": {
  "kernelspec": {
   "display_name": "Python 3 (ipykernel)",
   "language": "python",
   "name": "python3"
  },
  "language_info": {
   "codemirror_mode": {
    "name": "ipython",
    "version": 3
   },
   "file_extension": ".py",
   "mimetype": "text/x-python",
   "name": "python",
   "nbconvert_exporter": "python",
   "pygments_lexer": "ipython3",
   "version": "3.8.8"
  }
 },
 "nbformat": 4,
 "nbformat_minor": 5
}
